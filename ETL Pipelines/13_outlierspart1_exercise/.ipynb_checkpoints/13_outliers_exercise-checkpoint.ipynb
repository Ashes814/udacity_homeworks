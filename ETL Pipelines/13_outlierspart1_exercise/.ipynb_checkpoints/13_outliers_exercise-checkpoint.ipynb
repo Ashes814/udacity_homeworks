{
 "cells": [
  {
   "cell_type": "markdown",
   "metadata": {},
   "source": [
    "# Finding Outliers\n",
    "\n",
    "In this exercise, you'll practice looking for outliers. You'll look at the World Bank GDP and population data sets. First, you'll look at the data from a one-dimensional perspective and then a two-dimensional perspective.\n",
    "\n",
    "Run the code below to import the data sets and prepare the data for analysis. The code:\n",
    "* reads in the data sets\n",
    "* reshapes the datasets to a long format\n",
    "* uses back fill and forward fill to fill in missing values\n",
    "* merges the gdp and population data together\n",
    "* shows the first 10 values in the data set"
   ]
  },
  {
   "cell_type": "code",
   "execution_count": 1,
   "metadata": {},
   "outputs": [
    {
     "data": {
      "text/html": [
       "<div><div id=ee04d733-c8fa-4220-a85d-638d14fb9236 style=\"display:none; background-color:#9D6CFF; color:white; width:200px; height:30px; padding-left:5px; border-radius:4px; flex-direction:row; justify-content:space-around; align-items:center;\" onmouseover=\"this.style.backgroundColor='#BA9BF8'\" onmouseout=\"this.style.backgroundColor='#9D6CFF'\" onclick=\"window.commands?.execute('create-mitosheet-from-dataframe-output');\">See Full Dataframe in Mito</div> <script> if (window.commands.hasCommand('create-mitosheet-from-dataframe-output')) document.getElementById('ee04d733-c8fa-4220-a85d-638d14fb9236').style.display = 'flex' </script> <table border=\"1\" class=\"dataframe\">\n",
       "  <thead>\n",
       "    <tr style=\"text-align: right;\">\n",
       "      <th></th>\n",
       "      <th>Country Name</th>\n",
       "      <th>year</th>\n",
       "      <th>gdp</th>\n",
       "      <th>population</th>\n",
       "    </tr>\n",
       "  </thead>\n",
       "  <tbody>\n",
       "    <tr>\n",
       "      <th>14784</th>\n",
       "      <td>Aruba</td>\n",
       "      <td>2016</td>\n",
       "      <td>2.584464e+09</td>\n",
       "      <td>104822.0</td>\n",
       "    </tr>\n",
       "    <tr>\n",
       "      <th>14785</th>\n",
       "      <td>Afghanistan</td>\n",
       "      <td>2016</td>\n",
       "      <td>1.946902e+10</td>\n",
       "      <td>34656032.0</td>\n",
       "    </tr>\n",
       "    <tr>\n",
       "      <th>14786</th>\n",
       "      <td>Angola</td>\n",
       "      <td>2016</td>\n",
       "      <td>9.533720e+10</td>\n",
       "      <td>28813463.0</td>\n",
       "    </tr>\n",
       "    <tr>\n",
       "      <th>14787</th>\n",
       "      <td>Albania</td>\n",
       "      <td>2016</td>\n",
       "      <td>1.188368e+10</td>\n",
       "      <td>2876101.0</td>\n",
       "    </tr>\n",
       "    <tr>\n",
       "      <th>14788</th>\n",
       "      <td>Andorra</td>\n",
       "      <td>2016</td>\n",
       "      <td>2.877312e+09</td>\n",
       "      <td>77281.0</td>\n",
       "    </tr>\n",
       "    <tr>\n",
       "      <th>14789</th>\n",
       "      <td>Arab World</td>\n",
       "      <td>2016</td>\n",
       "      <td>2.500164e+12</td>\n",
       "      <td>406452690.0</td>\n",
       "    </tr>\n",
       "    <tr>\n",
       "      <th>14790</th>\n",
       "      <td>United Arab Emirates</td>\n",
       "      <td>2016</td>\n",
       "      <td>3.570451e+11</td>\n",
       "      <td>9269612.0</td>\n",
       "    </tr>\n",
       "    <tr>\n",
       "      <th>14791</th>\n",
       "      <td>Argentina</td>\n",
       "      <td>2016</td>\n",
       "      <td>5.548609e+11</td>\n",
       "      <td>43847430.0</td>\n",
       "    </tr>\n",
       "    <tr>\n",
       "      <th>14792</th>\n",
       "      <td>Armenia</td>\n",
       "      <td>2016</td>\n",
       "      <td>1.054614e+10</td>\n",
       "      <td>2924816.0</td>\n",
       "    </tr>\n",
       "    <tr>\n",
       "      <th>14793</th>\n",
       "      <td>American Samoa</td>\n",
       "      <td>2016</td>\n",
       "      <td>6.580000e+08</td>\n",
       "      <td>55599.0</td>\n",
       "    </tr>\n",
       "  </tbody>\n",
       "</table></div>"
      ],
      "text/plain": [
       "               Country Name  year           gdp   population\n",
       "14784                 Aruba  2016  2.584464e+09     104822.0\n",
       "14785           Afghanistan  2016  1.946902e+10   34656032.0\n",
       "14786                Angola  2016  9.533720e+10   28813463.0\n",
       "14787               Albania  2016  1.188368e+10    2876101.0\n",
       "14788               Andorra  2016  2.877312e+09      77281.0\n",
       "14789            Arab World  2016  2.500164e+12  406452690.0\n",
       "14790  United Arab Emirates  2016  3.570451e+11    9269612.0\n",
       "14791             Argentina  2016  5.548609e+11   43847430.0\n",
       "14792               Armenia  2016  1.054614e+10    2924816.0\n",
       "14793        American Samoa  2016  6.580000e+08      55599.0"
      ]
     },
     "execution_count": 1,
     "metadata": {},
     "output_type": "execute_result"
    }
   ],
   "source": [
    "import pandas as pd\n",
    "import numpy as np\n",
    "\n",
    "# read in the projects data set and do basic wrangling \n",
    "gdp = pd.read_csv('../data/gdp_data.csv', skiprows=4)\n",
    "gdp.drop(['Unnamed: 62', 'Country Code', 'Indicator Name', 'Indicator Code'], inplace=True, axis=1)\n",
    "population = pd.read_csv('../data/population_data.csv', skiprows=4)\n",
    "population.drop(['Unnamed: 62', 'Country Code', 'Indicator Name', 'Indicator Code'], inplace=True, axis=1)\n",
    "\n",
    "\n",
    "# Reshape the data sets so that they are in long format\n",
    "gdp_melt = gdp.melt(id_vars=['Country Name'], \n",
    "                    var_name='year', \n",
    "                    value_name='gdp')\n",
    "\n",
    "# Use back fill and forward fill to fill in missing gdp values\n",
    "gdp_melt['gdp'] = gdp_melt.sort_values('year').groupby('Country Name')['gdp'].fillna(method='ffill').fillna(method='bfill')\n",
    "\n",
    "population_melt = population.melt(id_vars=['Country Name'], \n",
    "                                  var_name='year', \n",
    "                                  value_name='population')\n",
    "\n",
    "# Use back fill and forward fill to fill in missing population values\n",
    "population_melt['population'] = population_melt.sort_values('year').groupby('Country Name')['population'].fillna(method='ffill').fillna(method='bfill')\n",
    "\n",
    "# merge the population and gdp data together into one data frame\n",
    "df_country = gdp_melt.merge(population_melt, on=('Country Name', 'year'))\n",
    "\n",
    "# filter data for the year 2016\n",
    "df_2016 = df_country[df_country['year'] == '2016']\n",
    "\n",
    "# see what the data looks like\n",
    "df_2016.head(10)"
   ]
  },
  {
   "cell_type": "markdown",
   "metadata": {},
   "source": [
    "# Exercise\n",
    "\n",
    "Explore the data set to identify outliers using the Tukey rule. Follow the TODOs."
   ]
  },
  {
   "cell_type": "code",
   "execution_count": 4,
   "metadata": {},
   "outputs": [
    {
     "data": {
      "image/png": "[encoded data removed]",
      "text/plain": [
       "<Figure size 432x288 with 1 Axes>"
      ]
     },
     "metadata": {
      "needs_background": "light"
     },
     "output_type": "display_data"
    },
    {
     "data": {
      "text/plain": [
       "{'whiskers': [<matplotlib.lines.Line2D at 0x7fac320535b0>,\n",
       "  <matplotlib.lines.Line2D at 0x7fac32053880>],\n",
       " 'caps': [<matplotlib.lines.Line2D at 0x7fac32053b50>,\n",
       "  <matplotlib.lines.Line2D at 0x7fac32053e20>],\n",
       " 'boxes': [<matplotlib.lines.Line2D at 0x7fac32053400>],\n",
       " 'medians': [<matplotlib.lines.Line2D at 0x7fac32060250>],\n",
       " 'fliers': [<matplotlib.lines.Line2D at 0x7fac32060580>],\n",
       " 'means': []}"
      ]
     },
     "execution_count": 4,
     "metadata": {},
     "output_type": "execute_result"
    },
    {
     "data": {
      "image/png": "[encoded data removed]",
      "text/plain": [
       "<Figure size 432x288 with 1 Axes>"
      ]
     },
     "metadata": {
      "needs_background": "light"
     },
     "output_type": "display_data"
    }
   ],
   "source": [
    "import matplotlib.pyplot as plt\n",
    "%matplotlib inline \n",
    "\n",
    "# TODO: Make a boxplot of the population data for the year 2016\n",
    "plt.boxplot(df_2016['population'])\n",
    "plt.show()\n",
    "# TODO: Make a boxplot of the gdp data for the year 2016\n",
    "plt.boxplot(df_2016['gdp'])"
   ]
  },
  {
   "cell_type": "markdown",
   "metadata": {},
   "source": [
    "Use the Tukey rule to determine what values of the population data are outliers for the year 2016. The Tukey rule finds outliers in one-dimension. The steps are:\n",
    "\n",
    "* Find the first quartile (ie .25 quantile)\n",
    "* Find the third quartile (ie .75 quantile)\n",
    "* Calculate the inter-quartile range (Q3 - Q1)\n",
    "* Any value that is greater than Q3 + 1.5 * IQR is an outlier\n",
    "* Any value that is less than Qe - 1.5 * IQR is an outlier"
   ]
  },
  {
   "cell_type": "code",
   "execution_count": null,
   "metadata": {},
   "outputs": [],
   "source": [
    "# TODO: Calculate the first quartile of the population values for 2016\n",
    "# HINT: you can use the pandas quantile method \n",
    "Q1 = df_2016['population'].quantile(0.25)\n",
    "\n",
    "# TODO: Calculate the third quartile of the population values for 2016\n",
    "Q3 = df_2016['population'].quantile(0.75)\n",
    "\n",
    "# TODO: Calculate the interquartile range Q3 - Q1\n",
    "IQR = Q3 - Q1\n",
    "\n",
    "# TODO: Calculate the maximum value and minimum values according to the Tukey rule\n",
    "# max_value is Q3 + 1.5 * IQR while min_value is Q1 - 1.5 * IQR\n",
    "max_value = Q3 + 1.5*IQR\n",
    "min_value = Q1 - 1.5*IQR\n",
    "\n",
    "# TODO: filter the population_2016 data for population values that are greater than max_value or less than min_value\n",
    "population_outliers = df_2016[(df_2016['population']>max_value)|(df_2016['population']<min_value)]\n",
    "population_outliers"
   ]
  },
  {
   "cell_type": "code",
   "execution_count": 6,
   "metadata": {},
   "outputs": [
    {
     "data": {
      "application/vnd.jupyter.widget-view+json": {
       "model_id": "6bf2b32d16374cb8a6ecc1d714b25330",
       "version_major": 2,
       "version_minor": 0
      },
      "text/plain": [
       "MitoWidget(analysis_data_json='{\"analysisName\": \"UUID-4cae62da-6801-4f0f-b0f0-d6b9b789bff9\", \"code\": {\"imports…"
      ]
     },
     "metadata": {},
     "output_type": "display_data"
    }
   ],
   "source": [
    "import mitosheet\n",
    "mitosheet.sheet(population_outliers, view_df=True)"
   ]
  },
  {
   "cell_type": "code",
   "execution_count": null,
   "metadata": {},
   "outputs": [],
   "source": []
  },
  {
   "cell_type": "markdown",
   "metadata": {},
   "source": [
    "Many of these aren't countries at all but rather aggregates of various countries. Notice as well that the min_value calculated above was negative. According to the Tukey rule, there are no minimum population outliers in this data set. If you were going to study how population and gdp correlate, you might want to remove these aggregated regions from the data set.\n",
    "\n",
    "Next, use the Tukey method to do the same analysis for gdp."
   ]
  },
  {
   "cell_type": "code",
   "execution_count": null,
   "metadata": {},
   "outputs": [],
   "source": [
    "# TODO: Calculate the first quartile of the population values for 2016\n",
    "# HINT: you can use the pandas quantile method \n",
    "Q1 = df_2016['gdp'].quantile(0.25)\n",
    "print(Q1)\n",
    "# TODO: Calculate the third quartile of the population values for 2016\n",
    "Q3 = df_2016['gdp'].quantile(0.75)\n",
    "print(Q3)\n",
    "# TODP: Calculate the interquartile range Q3 - Q1\n",
    "IQR = Q3 - Q1\n",
    "print(IQR)\n",
    "\n",
    "# TODO: Calculate the maximum value and minimum values according to the Tukey rule\n",
    "# max_value is Q3 + 1.5 * IQR while min_value is Q1 - 1.5 * IQR\n",
    "max_value = Q3 + 1.5*IQR\n",
    "print(max_value)\n",
    "min_value = Q1 - 1.5*IQR\n",
    "print(min_value)\n",
    "\n",
    "# TODO: filter the population_2016 data for population values that are greater than max_value or less than min_value\n",
    "gdp_outliers = df_2016[(df_2016['gdp']>max_value)|(df_2016['gdp']<min_value)]\n",
    "gdp_outliers"
   ]
  },
  {
   "cell_type": "code",
   "execution_count": 9,
   "metadata": {},
   "outputs": [
    {
     "data": {
      "application/vnd.jupyter.widget-view+json": {
       "model_id": "54d7bf6a53f94c518635327c00ebd21b",
       "version_major": 2,
       "version_minor": 0
      },
      "text/plain": [
       "MitoWidget(analysis_data_json='{\"analysisName\": \"UUID-b4ed9b12-2ef0-4e7e-b984-20f8b1d7c41e\", \"code\": {\"imports…"
      ]
     },
     "metadata": {},
     "output_type": "display_data"
    }
   ],
   "source": [
    "import mitosheet\n",
    "mitosheet.sheet(gdp_outliers, view_df=True)"
   ]
  },
  {
   "cell_type": "code",
   "execution_count": null,
   "metadata": {},
   "outputs": [],
   "source": []
  },
  {
   "cell_type": "markdown",
   "metadata": {},
   "source": [
    "Clearly many of these outliers are due to regional data getting aggregated together. \n",
    "\n",
    "Remove these data points and redo the analysis. There's a list provided below of the 'Country Name' values that are not actually countries."
   ]
  },
  {
   "cell_type": "code",
   "execution_count": 10,
   "metadata": {},
   "outputs": [
    {
     "data": {
      "text/html": [
       "<div><div id=25612ada-54c3-403c-b5ee-a189718188d2 style=\"display:none; background-color:#9D6CFF; color:white; width:200px; height:30px; padding-left:5px; border-radius:4px; flex-direction:row; justify-content:space-around; align-items:center;\" onmouseover=\"this.style.backgroundColor='#BA9BF8'\" onmouseout=\"this.style.backgroundColor='#9D6CFF'\" onclick=\"window.commands?.execute('create-mitosheet-from-dataframe-output');\">See Full Dataframe in Mito</div> <script> if (window.commands.hasCommand('create-mitosheet-from-dataframe-output')) document.getElementById('25612ada-54c3-403c-b5ee-a189718188d2').style.display = 'flex' </script> <table border=\"1\" class=\"dataframe\">\n",
       "  <thead>\n",
       "    <tr style=\"text-align: right;\">\n",
       "      <th></th>\n",
       "      <th>Country Name</th>\n",
       "      <th>year</th>\n",
       "      <th>gdp</th>\n",
       "      <th>population</th>\n",
       "    </tr>\n",
       "  </thead>\n",
       "  <tbody>\n",
       "    <tr>\n",
       "      <th>14784</th>\n",
       "      <td>Aruba</td>\n",
       "      <td>2016</td>\n",
       "      <td>2.584464e+09</td>\n",
       "      <td>104822.0</td>\n",
       "    </tr>\n",
       "    <tr>\n",
       "      <th>14785</th>\n",
       "      <td>Afghanistan</td>\n",
       "      <td>2016</td>\n",
       "      <td>1.946902e+10</td>\n",
       "      <td>34656032.0</td>\n",
       "    </tr>\n",
       "    <tr>\n",
       "      <th>14786</th>\n",
       "      <td>Angola</td>\n",
       "      <td>2016</td>\n",
       "      <td>9.533720e+10</td>\n",
       "      <td>28813463.0</td>\n",
       "    </tr>\n",
       "    <tr>\n",
       "      <th>14787</th>\n",
       "      <td>Albania</td>\n",
       "      <td>2016</td>\n",
       "      <td>1.188368e+10</td>\n",
       "      <td>2876101.0</td>\n",
       "    </tr>\n",
       "    <tr>\n",
       "      <th>14788</th>\n",
       "      <td>Andorra</td>\n",
       "      <td>2016</td>\n",
       "      <td>2.877312e+09</td>\n",
       "      <td>77281.0</td>\n",
       "    </tr>\n",
       "    <tr>\n",
       "      <th>...</th>\n",
       "      <td>...</td>\n",
       "      <td>...</td>\n",
       "      <td>...</td>\n",
       "      <td>...</td>\n",
       "    </tr>\n",
       "    <tr>\n",
       "      <th>15043</th>\n",
       "      <td>Kosovo</td>\n",
       "      <td>2016</td>\n",
       "      <td>6.715487e+09</td>\n",
       "      <td>1816200.0</td>\n",
       "    </tr>\n",
       "    <tr>\n",
       "      <th>15044</th>\n",
       "      <td>Yemen, Rep.</td>\n",
       "      <td>2016</td>\n",
       "      <td>1.821333e+10</td>\n",
       "      <td>27584213.0</td>\n",
       "    </tr>\n",
       "    <tr>\n",
       "      <th>15045</th>\n",
       "      <td>South Africa</td>\n",
       "      <td>2016</td>\n",
       "      <td>2.957627e+11</td>\n",
       "      <td>56015473.0</td>\n",
       "    </tr>\n",
       "    <tr>\n",
       "      <th>15046</th>\n",
       "      <td>Zambia</td>\n",
       "      <td>2016</td>\n",
       "      <td>2.095475e+10</td>\n",
       "      <td>16591390.0</td>\n",
       "    </tr>\n",
       "    <tr>\n",
       "      <th>15047</th>\n",
       "      <td>Zimbabwe</td>\n",
       "      <td>2016</td>\n",
       "      <td>1.661996e+10</td>\n",
       "      <td>16150362.0</td>\n",
       "    </tr>\n",
       "  </tbody>\n",
       "</table></div>"
      ],
      "text/plain": [
       "       Country Name  year           gdp  population\n",
       "14784         Aruba  2016  2.584464e+09    104822.0\n",
       "14785   Afghanistan  2016  1.946902e+10  34656032.0\n",
       "14786        Angola  2016  9.533720e+10  28813463.0\n",
       "14787       Albania  2016  1.188368e+10   2876101.0\n",
       "14788       Andorra  2016  2.877312e+09     77281.0\n",
       "...             ...   ...           ...         ...\n",
       "15043        Kosovo  2016  6.715487e+09   1816200.0\n",
       "15044   Yemen, Rep.  2016  1.821333e+10  27584213.0\n",
       "15045  South Africa  2016  2.957627e+11  56015473.0\n",
       "15046        Zambia  2016  2.095475e+10  16591390.0\n",
       "15047      Zimbabwe  2016  1.661996e+10  16150362.0\n",
       "\n",
       "[217 rows x 4 columns]"
      ]
     },
     "execution_count": 10,
     "metadata": {},
     "output_type": "execute_result"
    }
   ],
   "source": [
    "# TODO: remove the rows from the data that have Country Name values in the non_countries list\n",
    "# Store the filter results back into the df_2016 variable\n",
    "\n",
    "non_countries = ['World',\n",
    " 'High income',\n",
    " 'OECD members',\n",
    " 'Post-demographic dividend',\n",
    " 'IDA & IBRD total',\n",
    " 'Low & middle income',\n",
    " 'Middle income',\n",
    " 'IBRD only',\n",
    " 'East Asia & Pacific',\n",
    " 'Europe & Central Asia',\n",
    " 'North America',\n",
    " 'Upper middle income',\n",
    " 'Late-demographic dividend',\n",
    " 'European Union',\n",
    " 'East Asia & Pacific (excluding high income)',\n",
    " 'East Asia & Pacific (IDA & IBRD countries)',\n",
    " 'Euro area',\n",
    " 'Early-demographic dividend',\n",
    " 'Lower middle income',\n",
    " 'Latin America & Caribbean',\n",
    " 'Latin America & the Caribbean (IDA & IBRD countries)',\n",
    " 'Latin America & Caribbean (excluding high income)',\n",
    " 'Europe & Central Asia (IDA & IBRD countries)',\n",
    " 'Middle East & North Africa',\n",
    " 'Europe & Central Asia (excluding high income)',\n",
    " 'South Asia (IDA & IBRD)',\n",
    " 'South Asia',\n",
    " 'Arab World',\n",
    " 'IDA total',\n",
    " 'Sub-Saharan Africa',\n",
    " 'Sub-Saharan Africa (IDA & IBRD countries)',\n",
    " 'Sub-Saharan Africa (excluding high income)',\n",
    " 'Middle East & North Africa (excluding high income)',\n",
    " 'Middle East & North Africa (IDA & IBRD countries)',\n",
    " 'Central Europe and the Baltics',\n",
    " 'Pre-demographic dividend',\n",
    " 'IDA only',\n",
    " 'Least developed countries: UN classification',\n",
    " 'IDA blend',\n",
    " 'Fragile and conflict affected situations',\n",
    " 'Heavily indebted poor countries (HIPC)',\n",
    " 'Low income',\n",
    " 'Small states',\n",
    " 'Other small states',\n",
    " 'Not classified',\n",
    " 'Caribbean small states',\n",
    " 'Pacific island small states']\n",
    "df_2016=df_2016[~df_2016['Country Name'].isin(non_countries)]\n",
    "df_2016"
   ]
  },
  {
   "cell_type": "code",
   "execution_count": 11,
   "metadata": {},
   "outputs": [
    {
     "data": {
      "text/html": [
       "<div><div id=b3ed19df-9d5f-4d90-a38f-e30a15909980 style=\"display:none; background-color:#9D6CFF; color:white; width:200px; height:30px; padding-left:5px; border-radius:4px; flex-direction:row; justify-content:space-around; align-items:center;\" onmouseover=\"this.style.backgroundColor='#BA9BF8'\" onmouseout=\"this.style.backgroundColor='#9D6CFF'\" onclick=\"window.commands?.execute('create-mitosheet-from-dataframe-output');\">See Full Dataframe in Mito</div> <script> if (window.commands.hasCommand('create-mitosheet-from-dataframe-output')) document.getElementById('b3ed19df-9d5f-4d90-a38f-e30a15909980').style.display = 'flex' </script> <table border=\"1\" class=\"dataframe\">\n",
       "  <thead>\n",
       "    <tr style=\"text-align: right;\">\n",
       "      <th></th>\n",
       "      <th>Country Name</th>\n",
       "      <th>year</th>\n",
       "      <th>gdp</th>\n",
       "      <th>population</th>\n",
       "    </tr>\n",
       "  </thead>\n",
       "  <tbody>\n",
       "    <tr>\n",
       "      <th>14802</th>\n",
       "      <td>Bangladesh</td>\n",
       "      <td>2016</td>\n",
       "      <td>2.214152e+11</td>\n",
       "      <td>1.629516e+08</td>\n",
       "    </tr>\n",
       "    <tr>\n",
       "      <th>14811</th>\n",
       "      <td>Brazil</td>\n",
       "      <td>2016</td>\n",
       "      <td>1.793989e+12</td>\n",
       "      <td>2.076529e+08</td>\n",
       "    </tr>\n",
       "    <tr>\n",
       "      <th>14822</th>\n",
       "      <td>China</td>\n",
       "      <td>2016</td>\n",
       "      <td>1.119099e+13</td>\n",
       "      <td>1.378665e+09</td>\n",
       "    </tr>\n",
       "    <tr>\n",
       "      <th>14825</th>\n",
       "      <td>Congo, Dem. Rep.</td>\n",
       "      <td>2016</td>\n",
       "      <td>3.499116e+10</td>\n",
       "      <td>7.873615e+07</td>\n",
       "    </tr>\n",
       "    <tr>\n",
       "      <th>14837</th>\n",
       "      <td>Germany</td>\n",
       "      <td>2016</td>\n",
       "      <td>3.477796e+12</td>\n",
       "      <td>8.234867e+07</td>\n",
       "    </tr>\n",
       "    <tr>\n",
       "      <th>...</th>\n",
       "      <td>...</td>\n",
       "      <td>...</td>\n",
       "      <td>...</td>\n",
       "      <td>...</td>\n",
       "    </tr>\n",
       "    <tr>\n",
       "      <th>14984</th>\n",
       "      <td>Russian Federation</td>\n",
       "      <td>2016</td>\n",
       "      <td>1.284728e+12</td>\n",
       "      <td>1.443424e+08</td>\n",
       "    </tr>\n",
       "    <tr>\n",
       "      <th>15015</th>\n",
       "      <td>Thailand</td>\n",
       "      <td>2016</td>\n",
       "      <td>4.117552e+11</td>\n",
       "      <td>6.886351e+07</td>\n",
       "    </tr>\n",
       "    <tr>\n",
       "      <th>15026</th>\n",
       "      <td>Turkey</td>\n",
       "      <td>2016</td>\n",
       "      <td>8.637216e+11</td>\n",
       "      <td>7.951243e+07</td>\n",
       "    </tr>\n",
       "    <tr>\n",
       "      <th>15033</th>\n",
       "      <td>United States</td>\n",
       "      <td>2016</td>\n",
       "      <td>1.862448e+13</td>\n",
       "      <td>3.234059e+08</td>\n",
       "    </tr>\n",
       "    <tr>\n",
       "      <th>15039</th>\n",
       "      <td>Vietnam</td>\n",
       "      <td>2016</td>\n",
       "      <td>2.052762e+11</td>\n",
       "      <td>9.456907e+07</td>\n",
       "    </tr>\n",
       "  </tbody>\n",
       "</table></div>"
      ],
      "text/plain": [
       "             Country Name  year           gdp    population\n",
       "14802          Bangladesh  2016  2.214152e+11  1.629516e+08\n",
       "14811              Brazil  2016  1.793989e+12  2.076529e+08\n",
       "14822               China  2016  1.119099e+13  1.378665e+09\n",
       "14825    Congo, Dem. Rep.  2016  3.499116e+10  7.873615e+07\n",
       "14837             Germany  2016  3.477796e+12  8.234867e+07\n",
       "14849    Egypt, Arab Rep.  2016  3.329278e+11  9.568868e+07\n",
       "14854            Ethiopia  2016  7.300098e+10  1.024032e+08\n",
       "14859              France  2016  2.465134e+12  6.685977e+07\n",
       "14863      United Kingdom  2016  2.650850e+12  6.559556e+07\n",
       "14888           Indonesia  2016  9.322565e+11  2.611155e+08\n",
       "14891               India  2016  2.274230e+12  1.324171e+09\n",
       "14894  Iran, Islamic Rep.  2016  4.189767e+11  8.027743e+07\n",
       "14898               Italy  2016  1.859384e+12  6.062750e+07\n",
       "14901               Japan  2016  4.949273e+12  1.269945e+08\n",
       "14936              Mexico  2016  1.076912e+12  1.275404e+08\n",
       "14956             Nigeria  2016  4.046527e+11  1.859896e+08\n",
       "14966            Pakistan  2016  2.786546e+11  1.932035e+08\n",
       "14969         Philippines  2016  3.048891e+11  1.033202e+08\n",
       "14984  Russian Federation  2016  1.284728e+12  1.443424e+08\n",
       "15015            Thailand  2016  4.117552e+11  6.886351e+07\n",
       "15026              Turkey  2016  8.637216e+11  7.951243e+07\n",
       "15033       United States  2016  1.862448e+13  3.234059e+08\n",
       "15039             Vietnam  2016  2.052762e+11  9.456907e+07"
      ]
     },
     "execution_count": 11,
     "metadata": {},
     "output_type": "execute_result"
    }
   ],
   "source": [
    "# TODO: Re-rerun the Tukey code with this filtered data to find population outliers\n",
    "# TODO: Calculate the first quartile of the population values for 2016\n",
    "# HINT: you can use the pandas quantile method \n",
    "Q1 = df_2016['population'].quantile(0.25)\n",
    "\n",
    "# TODO: Calculate the third quartile of the population values for 2016\n",
    "Q3 = df_2016['population'].quantile(0.75)\n",
    "\n",
    "# TODO: Calculate the interquartile range Q3 - Q1\n",
    "IQR = Q3 - Q1\n",
    "\n",
    "# TODO: Calculate the maximum value and minimum values according to the Tukey rule\n",
    "# max_value is Q3 + 1.5 * IQR while min_value is Q1 - 1.5 * IQR\n",
    "max_value = Q3 + 1.5*IQR\n",
    "min_value = Q1 - 1.5*IQR\n",
    "\n",
    "# TODO: filter the population_2016 data for population values that are greater than max_value or less than min_value\n",
    "population_outliers = df_2016[(df_2016['population']>max_value)|(df_2016['population']<min_value)]\n",
    "population_outliers"
   ]
  },
  {
   "cell_type": "code",
   "execution_count": null,
   "metadata": {},
   "outputs": [],
   "source": [
    "# TODO: Re-rerun the Tukey code with this filtered data to find gdp outliers in 2016\n",
    "\n",
    "# TODO: Calculate the first quartile of the population values for 2016\n",
    "# HINT: you can use the pandas quantile method \n",
    "Q1 = df_2016['gdp'].quantile(0.25)\n",
    "print(Q1)\n",
    "# TODO: Calculate the third quartile of the population values for 2016\n",
    "Q3 = df_2016['gdp'].quantile(0.75)\n",
    "print(Q3)\n",
    "# TODP: Calculate the interquartile range Q3 - Q1\n",
    "IQR = Q3 - Q1\n",
    "print(IQR)\n",
    "\n",
    "# TODO: Calculate the maximum value and minimum values according to the Tukey rule\n",
    "# max_value is Q3 + 1.5 * IQR while min_value is Q1 - 1.5 * IQR\n",
    "max_value = Q3 + 1.5*IQR\n",
    "print(max_value)\n",
    "min_value = Q1 - 1.5*IQR\n",
    "print(min_value)\n",
    "\n",
    "# TODO: filter the population_2016 data for population values that are greater than max_value or less than min_value\n",
    "gdp_outliers = df_2016[(df_2016['gdp']>max_value)|(df_2016['gdp']<min_value)]\n",
    "gdp_outliers"
   ]
  },
  {
   "cell_type": "code",
   "execution_count": 13,
   "metadata": {},
   "outputs": [
    {
     "data": {
      "application/vnd.jupyter.widget-view+json": {
       "model_id": "a5ab17d93c9c4af2bdf865f043e3f986",
       "version_major": 2,
       "version_minor": 0
      },
      "text/plain": [
       "MitoWidget(analysis_data_json='{\"analysisName\": \"UUID-612a4221-3d21-4ebb-9b96-5e6d11498455\", \"code\": {\"imports…"
      ]
     },
     "metadata": {},
     "output_type": "display_data"
    }
   ],
   "source": [
    "import mitosheet\n",
    "mitosheet.sheet(gdp_outliers, view_df=True)"
   ]
  },
  {
   "cell_type": "code",
   "execution_count": null,
   "metadata": {},
   "outputs": [],
   "source": []
  },
  {
   "cell_type": "markdown",
   "metadata": {},
   "source": [
    "Next, write code to determine which countries are in the population_outliers array and in the gdp_outliers array. "
   ]
  },
  {
   "cell_type": "code",
   "execution_count": 15,
   "metadata": {},
   "outputs": [
    {
     "data": {
      "text/plain": [
       "{'Brazil',\n",
       " 'China',\n",
       " 'France',\n",
       " 'Germany',\n",
       " 'India',\n",
       " 'Indonesia',\n",
       " 'Iran, Islamic Rep.',\n",
       " 'Italy',\n",
       " 'Japan',\n",
       " 'Mexico',\n",
       " 'Nigeria',\n",
       " 'Russian Federation',\n",
       " 'Thailand',\n",
       " 'Turkey',\n",
       " 'United Kingdom',\n",
       " 'United States'}"
      ]
     },
     "execution_count": 15,
     "metadata": {},
     "output_type": "execute_result"
    }
   ],
   "source": [
    "# TODO: Find country names that are in both the population_outliers and the gdp_outliers \n",
    "# HINT: you can use the pandas intersection() method and python set() and list() methods\n",
    "set(gdp_outliers['Country Name']).intersection(set(population_outliers['Country Name']))"
   ]
  },
  {
   "cell_type": "markdown",
   "metadata": {},
   "source": [
    "These countries have both relatively high populations and high GDPs. That might be an indication that although these countries have high values for both gdp and population, they're not true outliers when looking at these values from a two-dimensional perspective.\n",
    "\n",
    "Now write code to find countries in population_outliers but not in the gdp_outliers. "
   ]
  },
  {
   "cell_type": "code",
   "execution_count": 16,
   "metadata": {},
   "outputs": [
    {
     "data": {
      "text/plain": [
       "{'Bangladesh',\n",
       " 'Congo, Dem. Rep.',\n",
       " 'Egypt, Arab Rep.',\n",
       " 'Ethiopia',\n",
       " 'Pakistan',\n",
       " 'Philippines',\n",
       " 'Vietnam'}"
      ]
     },
     "execution_count": 16,
     "metadata": {},
     "output_type": "execute_result"
    }
   ],
   "source": [
    "# TODO: Find country names that are in the population outliers list but not the gdp outliers list\n",
    "# HINT: Python's set() and list() methods should be helpful\n",
    "set(population_outliers['Country Name']) - (set(gdp_outliers['Country Name']))"
   ]
  },
  {
   "cell_type": "markdown",
   "metadata": {},
   "source": [
    "These countries are population outliers but not GDP outliers. If looking at outliers from a two-dimensional perspective, there's some indication that these countries might be outliers.\n",
    "\n",
    "And finally, write code to find countries that are in the gdp_outliers array but not the population_outliers array."
   ]
  },
  {
   "cell_type": "code",
   "execution_count": 18,
   "metadata": {},
   "outputs": [
    {
     "data": {
      "text/plain": [
       "{'Argentina',\n",
       " 'Australia',\n",
       " 'Austria',\n",
       " 'Belgium',\n",
       " 'Canada',\n",
       " 'Korea, Rep.',\n",
       " 'Netherlands',\n",
       " 'Poland',\n",
       " 'Saudi Arabia',\n",
       " 'Spain',\n",
       " 'Sweden',\n",
       " 'Switzerland',\n",
       " 'Venezuela, RB'}"
      ]
     },
     "execution_count": 18,
     "metadata": {},
     "output_type": "execute_result"
    }
   ],
   "source": [
    "# TODO: Find country names that are in the gdp outliers list but not the population outliers list\n",
    "# HINT: Python's set() and list() methods should be helpful\n",
    "set(gdp_outliers['Country Name']) - (set(population_outliers['Country Name']))"
   ]
  },
  {
   "cell_type": "markdown",
   "metadata": {},
   "source": [
    "On the other hand, these countries have high GDP but are not population outliers.\n",
    "\n",
    "\n",
    "# Demo: 2-Dimensional Analysis\n",
    "\n",
    "Next, look at the data from a two-dimensional perspective. You don't have to do anything in this section other than run the code cells below. This gives a basic example of how outlier removal affects machine learning algorithms.\n",
    "\n",
    "The next code cell plots the GDP vs Population data including the country name of each point."
   ]
  },
  {
   "cell_type": "code",
   "execution_count": null,
   "metadata": {},
   "outputs": [],
   "source": [
    "# run the code cell below\n",
    "x = list(df_2016['population'])\n",
    "y = list(df_2016['gdp'])\n",
    "text = df_2016['Country Name']\n",
    "\n",
    "fig, ax = plt.subplots(figsize=(15,10))\n",
    "ax.scatter(x, y)\n",
    "plt.title('GDP vs Population')\n",
    "plt.xlabel('population')\n",
    "plt.ylabel('GDP')\n",
    "for i, txt in enumerate(text):\n",
    "    ax.annotate(txt, (x[i],y[i]))"
   ]
  },
  {
   "cell_type": "markdown",
   "metadata": {},
   "source": [
    "The United States, China, and India have such larger values that it's hard to see this data. Let's take those countries out for a moment and look at the data again."
   ]
  },
  {
   "cell_type": "code",
   "execution_count": null,
   "metadata": {},
   "outputs": [],
   "source": [
    "# Run the code below to see the results \n",
    "df_no_large = (df_2016['Country Name'] != 'United States') & (df_2016['Country Name'] != 'India') & (df_2016['Country Name'] != 'China')\n",
    "x = list(df_2016[df_no_large]['population'])\n",
    "y = list(df_2016[df_no_large]['gdp'])\n",
    "text = df_2016[df_no_large]['Country Name']\n",
    "\n",
    "fig, ax = plt.subplots(figsize=(15,10))\n",
    "ax.scatter(x, y)\n",
    "plt.title('GDP vs Population')\n",
    "plt.xlabel('population')\n",
    "plt.ylabel('GDP')\n",
    "for i, txt in enumerate(text):\n",
    "    ax.annotate(txt, (x[i],y[i]))"
   ]
  },
  {
   "cell_type": "markdown",
   "metadata": {},
   "source": [
    "Run the code below to build a simple linear regression model with the population and gdp data for 2016."
   ]
  },
  {
   "cell_type": "code",
   "execution_count": null,
   "metadata": {},
   "outputs": [],
   "source": [
    "from sklearn.linear_model import LinearRegression\n",
    "\n",
    "# fit a linear regression model on the population and gdp data\n",
    "model = LinearRegression()\n",
    "model.fit(df_2016['population'].values.reshape(-1, 1), df_2016['gdp'].values.reshape(-1, 1))\n",
    "\n",
    "# plot the data along with predictions from the linear regression model\n",
    "inputs = np.linspace(1, 2000000000, num=50)\n",
    "predictions = model.predict(inputs.reshape(-1,1))\n",
    "\n",
    "df_2016.plot('population', 'gdp', kind='scatter')\n",
    "plt.plot(inputs, predictions)\n",
    "print(model.predict(1000000000))"
   ]
  },
  {
   "cell_type": "markdown",
   "metadata": {},
   "source": [
    "Notice that the code ouputs a GDP value of 6.54e+12 when population equals 1e9. Now run the code below when the United States is taken out of the data set."
   ]
  },
  {
   "cell_type": "code",
   "execution_count": null,
   "metadata": {},
   "outputs": [],
   "source": [
    "# Remove the United States to see what happens with the linear regression model\n",
    "df_2016[df_2016['Country Name'] != 'United States'].plot('population', 'gdp', kind='scatter')\n",
    "# plt.plot(inputs, predictions)\n",
    "model.fit(df_2016[df_2016['Country Name'] != 'United States']['population'].values.reshape(-1, 1), \n",
    "          df_2016[df_2016['Country Name'] != 'United States']['gdp'].values.reshape(-1, 1))\n",
    "inputs = np.linspace(1, 2000000000, num=50)\n",
    "predictions = model.predict(inputs.reshape(-1,1))\n",
    "plt.plot(inputs, predictions)\n",
    "print(model.predict(1000000000))"
   ]
  },
  {
   "cell_type": "markdown",
   "metadata": {},
   "source": [
    "Notice that the code now ouputs a GDP value of 5.26e+12 when population equals 1e9. In other words, removing the United States shifted the linear regression line down.\n",
    "\n",
    "# Conclusion\n",
    "\n",
    "Data scientists sometimes have the task of creating an outlier removal model. In this exercise, you've used the Tukey rule. There are other one-dimensional models like eliminating data that is far from the mean. There are also more sophisticated models that take into account multi-dimensional data.\n",
    "\n",
    "Remember, however, that this is a course on data engineering. As a data engineer, your job will be to remove outliers using code based on whatever model you're given.\n",
    "\n",
    "If you were using the Tukey rule, for example, you'd calculate Q1, Q3, and IQR on your training data. You'd need to store these results. Then as new data comes in, you'd use these stored values to eliminate any outliers."
   ]
  }
 ],
 "metadata": {
  "kernelspec": {
   "display_name": "Python 3 (ipykernel)",
   "language": "python",
   "name": "python3"
  },
  "language_info": {
   "codemirror_mode": {
    "name": "ipython",
    "version": 3
   },
   "file_extension": ".py",
   "mimetype": "text/x-python",
   "name": "python",
   "nbconvert_exporter": "python",
   "pygments_lexer": "ipython3",
   "version": "3.8.8"
  }
 },
 "nbformat": 4,
 "nbformat_minor": 4
}
