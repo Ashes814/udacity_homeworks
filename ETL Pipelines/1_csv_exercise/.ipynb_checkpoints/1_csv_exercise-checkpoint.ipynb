{
 "cells": [
  {
   "cell_type": "markdown",
   "metadata": {},
   "source": [
    "# Goal of the ETL Lesson\n",
    "\n",
    "The main goal of this ETL pipelines lesson is to take the [World Bank Project data set](https://datacatalog.worldbank.org/dataset/world-bank-projects-operations) and merge this data with the [World Bank indicator data](https://data.worldbank.org/indicator/SP.POP.TOTL). Then you'll load the merged data into a database.\n",
    "\n",
    "In the process, you'll need to transform these data sets in different ways. And finally, you'll write a single Python module that reads in these date sets, transforms them, and loads the results into the database all in one step.\n",
    "\n",
    "# Extracting data from a csv file\n",
    "\n",
    "The first step in an ETL pipeline is extraction. Data comes in all types of different formats, and you'll practice extracting data from csv files, JSON files, XML files, SQL databases, and the web.\n",
    "\n",
    "In this first exercise, you'll practice extracting data from a CSV file and then navigating through the results. You'll see that extracting data is not always a straight-forward process.\n",
    "\n",
    "This exercise contains a series of coding questions for you to solve. If you get stuck, there is a solution file called 1_csv_exercise_solution.ipynb. You can find this solution file by going to File->Open and then clicking on the file name."
   ]
  },
  {
   "cell_type": "markdown",
   "metadata": {},
   "source": [
    "# Part 1 projects_data.csv\n",
    "\n",
    "There are two csv files loaded into this workspace:\n",
    "* projects_data.csv\n",
    "* population_data.csv\n",
    "\n",
    "As a first step, try importing the projects data using the pandas [read_csv method](https://pandas.pydata.org/pandas-docs/stable/generated/pandas.read_csv.html). The file path is just 'projects_data.csv'. You can see the file if you click on File->Open in the workspace."
   ]
  },
  {
   "cell_type": "code",
   "execution_count": 1,
   "metadata": {},
   "outputs": [
    {
     "name": "stderr",
     "output_type": "stream",
     "text": [
      "/var/folders/xj/q_jj69d97y5cd2h3wn7zt0zc0000gn/T/ipykernel_69999/2540647047.py:4: DtypeWarning: Columns (44) have mixed types. Specify dtype option on import or set low_memory=False.\n",
      "  df_projects = pd.read_csv('projects_data.csv')\n"
     ]
    }
   ],
   "source": [
    "# TODO: import the projects_data.csv file using the pandas library\n",
    "# Store the results in the df_projects variable\n",
    "import pandas as pd\n",
    "df_projects = pd.read_csv('projects_data.csv')"
   ]
  },
  {
   "cell_type": "markdown",
   "metadata": {},
   "source": [
    "Did you get a DType warning? Read about what this warning is in the [pandas documentation](https://pandas.pydata.org/pandas-docs/stable/generated/pandas.errors.DtypeWarning.html).\n",
    "\n",
    "Pandas tries to figure out programatically the data type of each column (integer, float, boolean, string). In this case, pandas could not automatically figure out the data type. That is because some columns have multiple data types. In other words, this data is somewhat messy.\n",
    "\n",
    "You can use the dtype option to specify the data type of each column. Because there are so many columns in this data set, you can set all columns to be strings.\n",
    "\n",
    "Try reading in the data set again using the read_csv() method. This time, also use the option dtype=str so that pandas treats everything like a string."
   ]
  },
  {
   "cell_type": "code",
   "execution_count": 2,
   "metadata": {},
   "outputs": [],
   "source": [
    "# TODO: Read in the projects_data.csv file using the read_csv method \n",
    "# and dtype = str option\n",
    "df_projects = pd.read_csv('projects_data.csv', dtype=str)"
   ]
  },
  {
   "cell_type": "code",
   "execution_count": 3,
   "metadata": {},
   "outputs": [
    {
     "data": {
      "text/html": [
       "<div><div id=854192d0-53df-4231-8a0e-9ea964b1fb80 style=\"display:none; background-color:#9D6CFF; color:white; width:200px; height:30px; padding-left:5px; border-radius:4px; flex-direction:row; justify-content:space-around; align-items:center;\" onmouseover=\"this.style.backgroundColor='#BA9BF8'\" onmouseout=\"this.style.backgroundColor='#9D6CFF'\" onclick=\"window.commands?.execute('create-mitosheet-from-dataframe-output');\">See Full Dataframe in Mito</div> <script> if (window.commands.hasCommand('create-mitosheet-from-dataframe-output')) document.getElementById('854192d0-53df-4231-8a0e-9ea964b1fb80').style.display = 'flex' </script> <table border=\"1\" class=\"dataframe\">\n",
       "  <thead>\n",
       "    <tr style=\"text-align: right;\">\n",
       "      <th></th>\n",
       "      <th>id</th>\n",
       "      <th>regionname</th>\n",
       "      <th>countryname</th>\n",
       "      <th>prodline</th>\n",
       "      <th>lendinginstr</th>\n",
       "      <th>lendinginstrtype</th>\n",
       "      <th>envassesmentcategorycode</th>\n",
       "      <th>supplementprojectflg</th>\n",
       "      <th>productlinetype</th>\n",
       "      <th>projectstatusdisplay</th>\n",
       "      <th>...</th>\n",
       "      <th>mjtheme3name</th>\n",
       "      <th>mjtheme4name</th>\n",
       "      <th>mjtheme5name</th>\n",
       "      <th>location</th>\n",
       "      <th>GeoLocID</th>\n",
       "      <th>GeoLocName</th>\n",
       "      <th>Latitude</th>\n",
       "      <th>Longitude</th>\n",
       "      <th>Country</th>\n",
       "      <th>Unnamed: 56</th>\n",
       "    </tr>\n",
       "  </thead>\n",
       "  <tbody>\n",
       "    <tr>\n",
       "      <th>0</th>\n",
       "      <td>P162228</td>\n",
       "      <td>Other</td>\n",
       "      <td>World;World</td>\n",
       "      <td>RE</td>\n",
       "      <td>Investment Project Financing</td>\n",
       "      <td>IN</td>\n",
       "      <td>C</td>\n",
       "      <td>N</td>\n",
       "      <td>L</td>\n",
       "      <td>Active</td>\n",
       "      <td>...</td>\n",
       "      <td>NaN</td>\n",
       "      <td>NaN</td>\n",
       "      <td>NaN</td>\n",
       "      <td>NaN</td>\n",
       "      <td>NaN</td>\n",
       "      <td>NaN</td>\n",
       "      <td>NaN</td>\n",
       "      <td>NaN</td>\n",
       "      <td>NaN</td>\n",
       "      <td>NaN</td>\n",
       "    </tr>\n",
       "    <tr>\n",
       "      <th>1</th>\n",
       "      <td>P163962</td>\n",
       "      <td>Africa</td>\n",
       "      <td>Democratic Republic of the Congo;Democratic Republic of the Congo</td>\n",
       "      <td>PE</td>\n",
       "      <td>Investment Project Financing</td>\n",
       "      <td>IN</td>\n",
       "      <td>B</td>\n",
       "      <td>N</td>\n",
       "      <td>L</td>\n",
       "      <td>Active</td>\n",
       "      <td>...</td>\n",
       "      <td>NaN</td>\n",
       "      <td>NaN</td>\n",
       "      <td>NaN</td>\n",
       "      <td>NaN</td>\n",
       "      <td>NaN</td>\n",
       "      <td>NaN</td>\n",
       "      <td>NaN</td>\n",
       "      <td>NaN</td>\n",
       "      <td>NaN</td>\n",
       "      <td>NaN</td>\n",
       "    </tr>\n",
       "    <tr>\n",
       "      <th>2</th>\n",
       "      <td>P167672</td>\n",
       "      <td>South Asia</td>\n",
       "      <td>People's Republic of Bangladesh;People's Republic of Bangladesh</td>\n",
       "      <td>PE</td>\n",
       "      <td>Investment Project Financing</td>\n",
       "      <td>IN</td>\n",
       "      <td>NaN</td>\n",
       "      <td>Y</td>\n",
       "      <td>L</td>\n",
       "      <td>Active</td>\n",
       "      <td>...</td>\n",
       "      <td>NaN</td>\n",
       "      <td>NaN</td>\n",
       "      <td>NaN</td>\n",
       "      <td>NaN</td>\n",
       "      <td>NaN</td>\n",
       "      <td>NaN</td>\n",
       "      <td>NaN</td>\n",
       "      <td>NaN</td>\n",
       "      <td>NaN</td>\n",
       "      <td>NaN</td>\n",
       "    </tr>\n",
       "    <tr>\n",
       "      <th>3</th>\n",
       "      <td>P158768</td>\n",
       "      <td>South Asia</td>\n",
       "      <td>Islamic  Republic of Afghanistan;Islamic  Republic of Afghanistan</td>\n",
       "      <td>PE</td>\n",
       "      <td>Investment Project Financing</td>\n",
       "      <td>IN</td>\n",
       "      <td>A</td>\n",
       "      <td>N</td>\n",
       "      <td>L</td>\n",
       "      <td>Active</td>\n",
       "      <td>...</td>\n",
       "      <td>NaN</td>\n",
       "      <td>NaN</td>\n",
       "      <td>NaN</td>\n",
       "      <td>NaN</td>\n",
       "      <td>NaN</td>\n",
       "      <td>NaN</td>\n",
       "      <td>NaN</td>\n",
       "      <td>NaN</td>\n",
       "      <td>NaN</td>\n",
       "      <td>NaN</td>\n",
       "    </tr>\n",
       "    <tr>\n",
       "      <th>4</th>\n",
       "      <td>P161364</td>\n",
       "      <td>Africa</td>\n",
       "      <td>Federal Republic of Nigeria;Federal Republic of Nigeria</td>\n",
       "      <td>PE</td>\n",
       "      <td>Investment Project Financing</td>\n",
       "      <td>IN</td>\n",
       "      <td>B</td>\n",
       "      <td>N</td>\n",
       "      <td>L</td>\n",
       "      <td>Active</td>\n",
       "      <td>...</td>\n",
       "      <td>NaN</td>\n",
       "      <td>NaN</td>\n",
       "      <td>NaN</td>\n",
       "      <td>0002327546!$!Ogun State!$!7!$!3.58333!$!NG;0002328925!$!Niger State!$!10!$!6!$!NG;0002565340!$!Abia State!$!5.41667!$!7.5!$!NG;0002565343!$!Edo!$!6.5!$!6!$!NG;0002597363!$!Kebbi State!$!11.5!$!4!$!NG;0002597366!$!Taraba State!$!8!$!10.5!$!NG</td>\n",
       "      <td>0002327546;0002328925;0002565340;0002565343;0002597363;0002597366</td>\n",
       "      <td>Ogun State;Niger State;Abia State;Edo;Kebbi State;Taraba State</td>\n",
       "      <td>7;10;5.41667;6.5;11.5;8</td>\n",
       "      <td>3.58333;6;7.5;6;4;10.5</td>\n",
       "      <td>NG;NG;NG;NG;NG;NG</td>\n",
       "      <td>NaN</td>\n",
       "    </tr>\n",
       "  </tbody>\n",
       "</table></div>"
      ],
      "text/plain": [
       "        id  regionname                                        countryname  \\\n",
       "0  P162228       Other                                        World;World   \n",
       "1  P163962      Africa  Democratic Republic of the Congo;Democratic Re...   \n",
       "2  P167672  South Asia  People's Republic of Bangladesh;People's Repub...   \n",
       "3  P158768  South Asia  Islamic  Republic of Afghanistan;Islamic  Repu...   \n",
       "4  P161364      Africa  Federal Republic of Nigeria;Federal Republic o...   \n",
       "\n",
       "  prodline                  lendinginstr lendinginstrtype  \\\n",
       "0       RE  Investment Project Financing               IN   \n",
       "1       PE  Investment Project Financing               IN   \n",
       "2       PE  Investment Project Financing               IN   \n",
       "3       PE  Investment Project Financing               IN   \n",
       "4       PE  Investment Project Financing               IN   \n",
       "\n",
       "  envassesmentcategorycode supplementprojectflg productlinetype  \\\n",
       "0                        C                    N               L   \n",
       "1                        B                    N               L   \n",
       "2                      NaN                    Y               L   \n",
       "3                        A                    N               L   \n",
       "4                        B                    N               L   \n",
       "\n",
       "  projectstatusdisplay  ... mjtheme3name mjtheme4name mjtheme5name  \\\n",
       "0               Active  ...          NaN          NaN          NaN   \n",
       "1               Active  ...          NaN          NaN          NaN   \n",
       "2               Active  ...          NaN          NaN          NaN   \n",
       "3               Active  ...          NaN          NaN          NaN   \n",
       "4               Active  ...          NaN          NaN          NaN   \n",
       "\n",
       "                                            location  \\\n",
       "0                                                NaN   \n",
       "1                                                NaN   \n",
       "2                                                NaN   \n",
       "3                                                NaN   \n",
       "4  0002327546!$!Ogun State!$!7!$!3.58333!$!NG;000...   \n",
       "\n",
       "                                            GeoLocID  \\\n",
       "0                                                NaN   \n",
       "1                                                NaN   \n",
       "2                                                NaN   \n",
       "3                                                NaN   \n",
       "4  0002327546;0002328925;0002565340;0002565343;00...   \n",
       "\n",
       "                                          GeoLocName                 Latitude  \\\n",
       "0                                                NaN                      NaN   \n",
       "1                                                NaN                      NaN   \n",
       "2                                                NaN                      NaN   \n",
       "3                                                NaN                      NaN   \n",
       "4  Ogun State;Niger State;Abia State;Edo;Kebbi St...  7;10;5.41667;6.5;11.5;8   \n",
       "\n",
       "                Longitude            Country Unnamed: 56  \n",
       "0                     NaN                NaN         NaN  \n",
       "1                     NaN                NaN         NaN  \n",
       "2                     NaN                NaN         NaN  \n",
       "3                     NaN                NaN         NaN  \n",
       "4  3.58333;6;7.5;6;4;10.5  NG;NG;NG;NG;NG;NG         NaN  \n",
       "\n",
       "[5 rows x 57 columns]"
      ]
     },
     "execution_count": 3,
     "metadata": {},
     "output_type": "execute_result"
    }
   ],
   "source": [
    "# Run the cell below to see what the data looks like\n",
    "df_projects.head()"
   ]
  },
  {
   "cell_type": "code",
   "execution_count": 4,
   "metadata": {},
   "outputs": [
    {
     "data": {
      "text/plain": [
       "id                              0\n",
       "regionname                      0\n",
       "countryname                     0\n",
       "prodline                        0\n",
       "lendinginstr                  246\n",
       "lendinginstrtype              246\n",
       "envassesmentcategorycode     5811\n",
       "supplementprojectflg           53\n",
       "productlinetype                 0\n",
       "projectstatusdisplay            4\n",
       "status                          4\n",
       "project_name                    0\n",
       "boardapprovaldate            1504\n",
       "board_approval_month         1504\n",
       "closingdate                  3349\n",
       "lendprojectcost               125\n",
       "ibrdcommamt                     0\n",
       "idacommamt                      0\n",
       "totalamt                        0\n",
       "grantamt                        0\n",
       "borrower                     5919\n",
       "impagency                    6097\n",
       "url                             0\n",
       "projectdoc                  18248\n",
       "majorsector_percent         18248\n",
       "sector1                         0\n",
       "sector2                      8721\n",
       "sector3                     11761\n",
       "sector4                     13872\n",
       "sector5                     15535\n",
       "sector                        638\n",
       "mjsector1                   18248\n",
       "mjsector2                   18248\n",
       "mjsector3                   18248\n",
       "mjsector4                   18248\n",
       "mjsector5                   18248\n",
       "mjsector                      638\n",
       "theme1                          0\n",
       "theme2                       8395\n",
       "theme3                      10764\n",
       "theme4                      13014\n",
       "theme5                      15320\n",
       "theme                       18248\n",
       "goal                         6115\n",
       "financier                   11188\n",
       "mjtheme1name                18248\n",
       "mjtheme2name                18248\n",
       "mjtheme3name                18248\n",
       "mjtheme4name                18248\n",
       "mjtheme5name                18248\n",
       "location                    13922\n",
       "GeoLocID                    13922\n",
       "GeoLocName                  13923\n",
       "Latitude                    13922\n",
       "Longitude                   13922\n",
       "Country                     14045\n",
       "Unnamed: 56                 18248\n",
       "dtype: int64"
      ]
     },
     "execution_count": 4,
     "metadata": {},
     "output_type": "execute_result"
    }
   ],
   "source": [
    "# TODO: count the number of null values in the data set\n",
    "# HINT: use the isnull() and sum() methods\n",
    "df_projects.isnull().sum()"
   ]
  },
  {
   "cell_type": "markdown",
   "metadata": {},
   "source": [
    "Notice that the number 18248 shows up multiple times. There is also a countryname column with 0 missing values and a Country column with 14045 missing values. This data set has some issues that will need to be solved in the transform part of the pipeline.\n",
    "\n",
    "Next, output the size of the data frame."
   ]
  },
  {
   "cell_type": "code",
   "execution_count": null,
   "metadata": {},
   "outputs": [],
   "source": [
    "# TODO: output the shape of the data frame\n"
   ]
  },
  {
   "cell_type": "markdown",
   "metadata": {},
   "source": [
    "There are 18248 rows in this data set. Considering many columns had 18248 NaN values, many columns in the data set are filled completely with NaN values."
   ]
  },
  {
   "cell_type": "markdown",
   "metadata": {},
   "source": [
    "# Part 2 population_data.csv"
   ]
  },
  {
   "cell_type": "markdown",
   "metadata": {},
   "source": [
    "Next, use the pandas read_csv method to read in the population_data.csv file. The path to this file is \"population_data.csv\". When you try to read in this data set using pandas, you'll get an error because there is something wrong with the data."
   ]
  },
  {
   "cell_type": "code",
   "execution_count": null,
   "metadata": {},
   "outputs": [],
   "source": [
    "# TODO: read in the population_data.csv file\n",
    "# Put the results in a variable called df_population\n",
    "df_population = None"
   ]
  },
  {
   "cell_type": "markdown",
   "metadata": {},
   "source": [
    "There is something wrong with this data set. You should see an error that says \"expected 3 fields in line 5, saw 63\". What might have happened? Try printing out the first few lines of the data file to see what the issue might be."
   ]
  },
  {
   "cell_type": "code",
   "execution_count": null,
   "metadata": {},
   "outputs": [],
   "source": [
    "# TODO: Print out the first 10 lines of the data set, line by line.\n",
    "# HINT: You can't use the read_csv method from pandas\n",
    "# HINT: to do this manually, you'll need to use pure Python\n",
    "# HINT: the open(), readline(), and close() methods should be helpful\n",
    "# HINT: Use a for loop\n"
   ]
  },
  {
   "cell_type": "markdown",
   "metadata": {},
   "source": [
    "The first four lines in the file are not properly formatted and don't contain data. Next, read in the data using the read_csv method. But this time, use the skiprows option."
   ]
  },
  {
   "cell_type": "code",
   "execution_count": null,
   "metadata": {},
   "outputs": [],
   "source": [
    "# TODO: read in population data skipping the first four rows\n",
    "# Put the results in a variable called df_population\n",
    "\n",
    "df_population = None"
   ]
  },
  {
   "cell_type": "code",
   "execution_count": null,
   "metadata": {},
   "outputs": [],
   "source": [
    "# Run this cell to see what the data looks like\n",
    "df_population.head()"
   ]
  },
  {
   "cell_type": "markdown",
   "metadata": {},
   "source": [
    "Make sure to scroll over to see what the last column looks like. That last column, called 'Unnamed: 62', doesn't look very useful and is filled with NaN values."
   ]
  },
  {
   "cell_type": "code",
   "execution_count": null,
   "metadata": {},
   "outputs": [],
   "source": [
    "# TODO: Count the number of null values in each column"
   ]
  },
  {
   "cell_type": "markdown",
   "metadata": {},
   "source": [
    "It looks like every year column has at least one NaN value. "
   ]
  },
  {
   "cell_type": "code",
   "execution_count": null,
   "metadata": {},
   "outputs": [],
   "source": [
    "# TODO: Sum the null values by column\n",
    "# HINT: In the sum method, use axis=1"
   ]
  },
  {
   "cell_type": "markdown",
   "metadata": {},
   "source": [
    "And it looks like almost every row has only one null value. That is probably from the 'Unnamed: 62' column that doesn't have any relevant information in it. Next, drop the 'Unnamed: 62' column from the data frame."
   ]
  },
  {
   "cell_type": "code",
   "execution_count": null,
   "metadata": {},
   "outputs": [],
   "source": [
    "# TODO: drop the 'Unnamed: 62' column from the data frame, \n",
    "# and save the results in the df_population variable\n",
    "\n",
    "df_population = None"
   ]
  },
  {
   "cell_type": "code",
   "execution_count": null,
   "metadata": {},
   "outputs": [],
   "source": [
    "# TODO: Now output any row that contains a null value.\n",
    "# HINT: Use the isnull() and any() methods. You'll want to use axis=1\n",
    "# in the any method."
   ]
  },
  {
   "cell_type": "markdown",
   "metadata": {},
   "source": [
    "# Conclusion \n",
    "\n",
    "This population data doesn't look too bad. Only six rows have missing values. In the transformation part of the lesson, you'll have to deal with these missing values somehow.\n",
    "\n",
    "If you would like to see the solution file for this exercise, go to File->Open and click on 1_csv_exercise_solution.ipynb.\n",
    "\n",
    "In the next exercise, you'll practice extracting data json and xml files."
   ]
  },
  {
   "cell_type": "code",
   "execution_count": null,
   "metadata": {},
   "outputs": [],
   "source": []
  }
 ],
 "metadata": {
  "kernelspec": {
   "display_name": "Python 3 (ipykernel)",
   "language": "python",
   "name": "python3"
  },
  "language_info": {
   "codemirror_mode": {
    "name": "ipython",
    "version": 3
   },
   "file_extension": ".py",
   "mimetype": "text/x-python",
   "name": "python",
   "nbconvert_exporter": "python",
   "pygments_lexer": "ipython3",
   "version": "3.8.8"
  }
 },
 "nbformat": 4,
 "nbformat_minor": 4
}
